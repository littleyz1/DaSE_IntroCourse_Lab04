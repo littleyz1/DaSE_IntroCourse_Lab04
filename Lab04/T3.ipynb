{
 "cells": [
  {
   "cell_type": "code",
   "execution_count": 6,
   "metadata": {},
   "outputs": [
    {
     "name": "stdout",
     "output_type": "stream",
     "text": [
      "包含两个或两个以上连续出现的相同字符组成的字符串\n",
      "最⻓连续出现的字符⻓度为3\n"
     ]
    }
   ],
   "source": [
    "string=input('请输入一个字符串')\n",
    "count=1\n",
    "maxcount=1\n",
    "length=len(string)\n",
    "for j in range(0,length-1):\n",
    "    if string[j]==string[j+1]:\n",
    "        count+=1\n",
    "    else:\n",
    "        count=1\n",
    "    if maxcount<count:\n",
    "        maxcount=count\n",
    "    # print(string[j])\n",
    "if maxcount>1:\n",
    "    print('包含两个或两个以上连续出现的相同字符组成的字符串')\n",
    "    print('最⻓连续出现的字符⻓度为%d'%(maxcount))\n"
   ]
  }
 ],
 "metadata": {
  "kernelspec": {
   "display_name": "Python 3.10.7 64-bit",
   "language": "python",
   "name": "python3"
  },
  "language_info": {
   "codemirror_mode": {
    "name": "ipython",
    "version": 3
   },
   "file_extension": ".py",
   "mimetype": "text/x-python",
   "name": "python",
   "nbconvert_exporter": "python",
   "pygments_lexer": "ipython3",
   "version": "3.10.7"
  },
  "orig_nbformat": 4,
  "vscode": {
   "interpreter": {
    "hash": "52c95d02f1bfe7c59da35d3ff8fa76f7d162251a8bf0068369a0a87df4b3e5e7"
   }
  }
 },
 "nbformat": 4,
 "nbformat_minor": 2
}
