{
 "cells": [
  {
   "cell_type": "code",
   "execution_count": 4,
   "metadata": {},
   "outputs": [
    {
     "name": "stdout",
     "output_type": "stream",
     "text": [
      "3.14174252\n"
     ]
    }
   ],
   "source": [
    "#单位圆的面积为pi\n",
    "import math\n",
    "import random\n",
    "S=4\n",
    "N=1e8\n",
    "C=0\n",
    "for i in range(int(N)):\n",
    "    x=random.uniform(0,1)\n",
    "    y=random.uniform(0,1)\n",
    "    if (x*x+y*y)<1:\n",
    "        C+=1\n",
    "print(\"%.8f\"%(C*S/N))"
   ]
  },
  {
   "cell_type": "code",
   "execution_count": 52,
   "metadata": {},
   "outputs": [
    {
     "name": "stdout",
     "output_type": "stream",
     "text": [
      "3.1415926453\n"
     ]
    }
   ],
   "source": [
    "import math\n",
    "n=6\n",
    "a=1\n",
    "for i in range(14) :\n",
    "    n*=2\n",
    "    a=math.sqrt(2-2*math.sqrt(1-(a/2)**2))\n",
    "print(\"%.10f\" % ( n*a/2))"
   ]
  },
  {
   "cell_type": "code",
   "execution_count": 50,
   "metadata": {},
   "outputs": [
    {
     "name": "stdout",
     "output_type": "stream",
     "text": [
      "10.00\n",
      "10.00\n",
      "10.00\n",
      "10.00\n",
      "10.00\n",
      " 10.00\n",
      "  10.00\n",
      "00000000000000000000000000000000000000000000000000010.000000\n"
     ]
    }
   ],
   "source": []
  }
 ],
 "metadata": {
  "kernelspec": {
   "display_name": "Python 3.10.7 64-bit",
   "language": "python",
   "name": "python3"
  },
  "language_info": {
   "codemirror_mode": {
    "name": "ipython",
    "version": 3
   },
   "file_extension": ".py",
   "mimetype": "text/x-python",
   "name": "python",
   "nbconvert_exporter": "python",
   "pygments_lexer": "ipython3",
   "version": "3.10.7"
  },
  "orig_nbformat": 4,
  "vscode": {
   "interpreter": {
    "hash": "52c95d02f1bfe7c59da35d3ff8fa76f7d162251a8bf0068369a0a87df4b3e5e7"
   }
  }
 },
 "nbformat": 4,
 "nbformat_minor": 2
}
