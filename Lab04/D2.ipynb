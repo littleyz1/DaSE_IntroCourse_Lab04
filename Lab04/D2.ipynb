{
 "cells": [
  {
   "cell_type": "code",
   "execution_count": 5,
   "metadata": {},
   "outputs": [
    {
     "name": "stdout",
     "output_type": "stream",
     "text": [
      "1.4142200000027136\n"
     ]
    }
   ],
   "source": [
    "c=2\n",
    "g=1\n",
    "diff=pow(g,2)-c\n",
    "while diff<0:\n",
    "    g+=1e-5\n",
    "    diff=pow(g,2)-c\n",
    "print(g)"
   ]
  },
  {
   "cell_type": "code",
   "execution_count": 8,
   "metadata": {},
   "outputs": [
    {
     "name": "stdout",
     "output_type": "stream",
     "text": [
      "1.4142135623842478\n"
     ]
    }
   ],
   "source": [
    "c=2\n",
    "min=0\n",
    "max=c\n",
    "g=(min+max)/2\n",
    "while abs(g*g-c)>1e-10:\n",
    "    if g*g>c:\n",
    "        max=g\n",
    "    else:\n",
    "        min=g\n",
    "    g=(min+max)/2    \n",
    "print(g)\n"
   ]
  },
  {
   "cell_type": "code",
   "execution_count": 13,
   "metadata": {},
   "outputs": [
    {
     "name": "stdout",
     "output_type": "stream",
     "text": [
      "1.4142135623746899\n"
     ]
    }
   ],
   "source": [
    "c=2\n",
    "g=c/2\n",
    "while abs(g*g-c)>1e-10:\n",
    "    g=(g+c/g)/2\n",
    "print(g)"
   ]
  }
 ],
 "metadata": {
  "kernelspec": {
   "display_name": "Python 3.10.7 64-bit",
   "language": "python",
   "name": "python3"
  },
  "language_info": {
   "codemirror_mode": {
    "name": "ipython",
    "version": 3
   },
   "file_extension": ".py",
   "mimetype": "text/x-python",
   "name": "python",
   "nbconvert_exporter": "python",
   "pygments_lexer": "ipython3",
   "version": "3.10.7"
  },
  "orig_nbformat": 4,
  "vscode": {
   "interpreter": {
    "hash": "52c95d02f1bfe7c59da35d3ff8fa76f7d162251a8bf0068369a0a87df4b3e5e7"
   }
  }
 },
 "nbformat": 4,
 "nbformat_minor": 2
}
